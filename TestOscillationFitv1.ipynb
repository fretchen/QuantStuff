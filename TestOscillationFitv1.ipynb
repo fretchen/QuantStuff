{
 "cells": [
  {
   "cell_type": "markdown",
   "metadata": {},
   "source": [
    "# Two level oscillation tests"
   ]
  },
  {
   "cell_type": "code",
   "execution_count": 2,
   "metadata": {
    "collapsed": true
   },
   "outputs": [],
   "source": [
    "import numpy as np\n",
    "import matplotlib.pyplot as plt\n",
    "import seaborn as sns\n",
    "import numpy.linalg as npl\n",
    "from IPython.core.pylabtools import figsize\n",
    "%matplotlib inline "
   ]
  },
  {
   "cell_type": "markdown",
   "metadata": {},
   "source": [
    "create an artificial data set with several points per time value"
   ]
  },
  {
   "cell_type": "code",
   "execution_count": 3,
   "metadata": {
    "collapsed": false
   },
   "outputs": [
    {
     "data": {
      "text/plain": [
       "<matplotlib.text.Text at 0x106fc7908>"
      ]
     },
     "execution_count": 3,
     "metadata": {},
     "output_type": "execute_result"
    },
    {
     "data": {
      "image/png": "[encoded data removed]",
      "text/plain": [
       "<matplotlib.figure.Figure at 0x106f9f390>"
      ]
     },
     "metadata": {},
     "output_type": "display_data"
    }
   ],
   "source": [
    "import pymc3 as pm\n",
    "sigma =0.2;\n",
    "Omega =0.5;\n",
    "Nt = 20;\n",
    "tmax =2;\n",
    "Nrep = 5;\n",
    "tlin = np.linspace(0,tmax,Nt);\n",
    "t_1 = tlin[:];\n",
    "t_2 = tlin[:];\n",
    "n1_simu = np.sin(2*np.pi*Omega*tlin)**2;\n",
    "n2_simu = 1 - n1_simu;\n",
    "\n",
    "n1_noise = 0.2*np.random.randn(Nt);\n",
    "n2_noise = 0.2*np.random.randn(Nt);\n",
    "\n",
    "n1_exp = n1_simu+n1_noise;\n",
    "n2_exp = n2_simu+n2_noise;\n",
    "\n",
    "for jj in np.arange(Nrep):\n",
    "    n1_noise = 0.2*np.random.randn(Nt); \n",
    "    n2_noise = 0.2*np.random.randn(Nt);\n",
    "    n2_exp = np.r_[n2_exp, n2_simu+n2_noise]\n",
    "    n1_exp = np.r_[n1_exp, n1_simu+n1_noise]\n",
    "    t_1 = np.r_[t_1, tlin]\n",
    "    t_2 = np.r_[t_2, tlin]\n",
    "\n",
    "nt_exp = np.r_[n1_exp, n2_exp];\n",
    "t_all = np.r_[t_1, t_2];\n",
    "plt.figure(1)\n",
    "plt.clf;\n",
    "plt.plot(t_1,n1_exp, 'o');\n",
    "plt.plot(t_1,n2_exp, 'o');\n",
    "plt.xlabel('t')\n",
    "plt.ylabel('population')"
   ]
  },
  {
   "cell_type": "markdown",
   "metadata": {},
   "source": [
    "Now that we have the simulated datas let us simulate them with pymc. \n",
    "\n",
    "The key is to put the mean value function into the Deterministic symbol, then pymc unstands that it is supposed to be a variable."
   ]
  },
  {
   "cell_type": "code",
   "execution_count": 4,
   "metadata": {
    "collapsed": false
   },
   "outputs": [
    {
     "name": "stdout",
     "output_type": "stream",
     "text": [
      "Shape.0\n"
     ]
    },
    {
     "ename": "ValueError",
     "evalue": "zero-dimensional arrays cannot be concatenated",
     "output_type": "error",
     "traceback": [
      "\u001b[0;31m---------------------------------------------------------------------------\u001b[0m",
      "\u001b[0;31mValueError\u001b[0m                                Traceback (most recent call last)",
      "\u001b[0;32m<ipython-input-4-d09398a614f1>\u001b[0m in \u001b[0;36m<module>\u001b[0;34m()\u001b[0m\n\u001b[1;32m     17\u001b[0m     \u001b[0;32mif\u001b[0m \u001b[0mn1\u001b[0m\u001b[0;34m.\u001b[0m\u001b[0mshape\u001b[0m\u001b[0;34m:\u001b[0m\u001b[0;34m\u001b[0m\u001b[0m\n\u001b[1;32m     18\u001b[0m         \u001b[0mprint\u001b[0m\u001b[0;34m(\u001b[0m\u001b[0mn1\u001b[0m\u001b[0;34m.\u001b[0m\u001b[0mshape\u001b[0m\u001b[0;34m)\u001b[0m\u001b[0;34m\u001b[0m\u001b[0m\n\u001b[0;32m---> 19\u001b[0;31m         \u001b[0mrate\u001b[0m \u001b[0;34m=\u001b[0m \u001b[0mpm\u001b[0m\u001b[0;34m.\u001b[0m\u001b[0mswitch\u001b[0m\u001b[0;34m(\u001b[0m\u001b[0mNswitch\u001b[0m\u001b[0;34m>=\u001b[0m \u001b[0midx\u001b[0m\u001b[0;34m,\u001b[0m \u001b[0mnp\u001b[0m\u001b[0;34m.\u001b[0m\u001b[0mr_\u001b[0m\u001b[0;34m[\u001b[0m\u001b[0mn1\u001b[0m\u001b[0;34m,\u001b[0m \u001b[0mn1\u001b[0m\u001b[0;34m]\u001b[0m\u001b[0;34m,\u001b[0m \u001b[0mnp\u001b[0m\u001b[0;34m.\u001b[0m\u001b[0mr_\u001b[0m\u001b[0;34m[\u001b[0m\u001b[0mn2\u001b[0m\u001b[0;34m,\u001b[0m \u001b[0mn2\u001b[0m\u001b[0;34m]\u001b[0m\u001b[0;34m)\u001b[0m\u001b[0;34m\u001b[0m\u001b[0m\n\u001b[0m\u001b[1;32m     20\u001b[0m \u001b[0;34m\u001b[0m\u001b[0m\n\u001b[1;32m     21\u001b[0m     \u001b[0;31m# Likelihood (sampling distribution) of observations\u001b[0m\u001b[0;34m\u001b[0m\u001b[0;34m\u001b[0m\u001b[0m\n",
      "\u001b[0;32m/Users/fnj/myPy3Env/lib/python3.4/site-packages/numpy/lib/index_tricks.py\u001b[0m in \u001b[0;36m__getitem__\u001b[0;34m(self, key)\u001b[0m\n\u001b[1;32m    336\u001b[0m                 \u001b[0mobjs\u001b[0m\u001b[0;34m[\u001b[0m\u001b[0mk\u001b[0m\u001b[0;34m]\u001b[0m \u001b[0;34m=\u001b[0m \u001b[0mobjs\u001b[0m\u001b[0;34m[\u001b[0m\u001b[0mk\u001b[0m\u001b[0;34m]\u001b[0m\u001b[0;34m.\u001b[0m\u001b[0mastype\u001b[0m\u001b[0;34m(\u001b[0m\u001b[0mfinal_dtype\u001b[0m\u001b[0;34m)\u001b[0m\u001b[0;34m\u001b[0m\u001b[0m\n\u001b[1;32m    337\u001b[0m \u001b[0;34m\u001b[0m\u001b[0m\n\u001b[0;32m--> 338\u001b[0;31m         \u001b[0mres\u001b[0m \u001b[0;34m=\u001b[0m \u001b[0m_nx\u001b[0m\u001b[0;34m.\u001b[0m\u001b[0mconcatenate\u001b[0m\u001b[0;34m(\u001b[0m\u001b[0mtuple\u001b[0m\u001b[0;34m(\u001b[0m\u001b[0mobjs\u001b[0m\u001b[0;34m)\u001b[0m\u001b[0;34m,\u001b[0m \u001b[0maxis\u001b[0m\u001b[0;34m=\u001b[0m\u001b[0mself\u001b[0m\u001b[0;34m.\u001b[0m\u001b[0maxis\u001b[0m\u001b[0;34m)\u001b[0m\u001b[0;34m\u001b[0m\u001b[0m\n\u001b[0m\u001b[1;32m    339\u001b[0m         \u001b[0;32mreturn\u001b[0m \u001b[0mself\u001b[0m\u001b[0;34m.\u001b[0m\u001b[0m_retval\u001b[0m\u001b[0;34m(\u001b[0m\u001b[0mres\u001b[0m\u001b[0;34m)\u001b[0m\u001b[0;34m\u001b[0m\u001b[0m\n\u001b[1;32m    340\u001b[0m \u001b[0;34m\u001b[0m\u001b[0m\n",
      "\u001b[0;31mValueError\u001b[0m: zero-dimensional arrays cannot be concatenated"
     ]
    }
   ],
   "source": [
    "basic_model = pm.Model()\n",
    "\n",
    "\n",
    "with basic_model:\n",
    "    # Priors for unknown model parameters\n",
    "    sigma = pm.HalfNormal('sigma', sd=1)\n",
    "    Omega = pm.Normal('omega', mu=0.55, sd=0.1)\n",
    "    amp = pm.Normal('Amplitude', mu=0.55, sd=0.1)\n",
    "    \n",
    "    \n",
    "    # Expected value of outcome\n",
    "    n1 = amp*pm.sin(2*np.pi*Omega*t_1)**2\n",
    "    n2 = 1-n1\n",
    "    Nval = len(nt_exp)\n",
    "    Nswitch = len(n1_exp)\n",
    "    idx = np.arange(Nval)\n",
    "    if n1.shape:\n",
    "        print(n1.shape)\n",
    "        rate = pm.switch(Nswitch>= idx, np.r_[n1, n1], np.r_[n2, n2])\n",
    "    \n",
    "    # Likelihood (sampling distribution) of observations\n",
    "    Y_obs = pm.Normal('Y_obs', mu=rate, sd=sigma, observed=nt_exp)"
   ]
  },
  {
   "cell_type": "markdown",
   "metadata": {},
   "source": [
    "now sample it"
   ]
  },
  {
   "cell_type": "code",
   "execution_count": null,
   "metadata": {
    "collapsed": false
   },
   "outputs": [],
   "source": [
    "Nsamples  =5000\n",
    "with basic_model:\n",
    "    # obtain starting values via MAP\n",
    "    start = pm.find_MAP()\n",
    "\n",
    "    # instantiate sampler\n",
    "    step = pm.NUTS(scaling=start)\n",
    "\n",
    "    # draw 500 posterior samples\n",
    "    trace = pm.sample(Nsamples, step, start=start)"
   ]
  },
  {
   "cell_type": "markdown",
   "metadata": {},
   "source": [
    "and here is the final result."
   ]
  },
  {
   "cell_type": "code",
   "execution_count": null,
   "metadata": {
    "collapsed": false
   },
   "outputs": [],
   "source": [
    "from scipy.stats.mstats import mquantiles\n",
    "Nplot =200\n",
    "omega_sample = trace['omega']\n",
    "amp_sample = trace['Amplitude']\n",
    "ts = np.linspace(0, tmax,Nplot)\n",
    "n_om = np.zeros((Nsamples, Nplot))\n",
    "for jj in np.arange(Nsamples):\n",
    "    amp = amp_sample[jj]\n",
    "    omega = omega_sample[jj]\n",
    "    n_om[jj,:] = amp*np.sin(2*np.pi*omega*ts)**2\n",
    "\n",
    "n_av = n_om.mean(axis = 0)\n",
    "\n",
    "qs = mquantiles(n_om, [0.025, 0.975], axis=0)\n",
    "print(n_av.shape)\n",
    "plt.figure(1)\n",
    "plt.clf;\n",
    "plt.scatter(t_all,n1_exp)\n",
    "plt.fill_between(ts, *qs, alpha = .4)\n",
    "plt.plot(ts,n_av)\n",
    "plt.xlabel('t')\n",
    "plt.ylabel('y')\n"
   ]
  },
  {
   "cell_type": "markdown",
   "metadata": {},
   "source": [
    "Summary"
   ]
  },
  {
   "cell_type": "code",
   "execution_count": null,
   "metadata": {
    "collapsed": false
   },
   "outputs": [],
   "source": [
    "pm.traceplot(trace);\n",
    "pm.summary(trace);"
   ]
  },
  {
   "cell_type": "code",
   "execution_count": null,
   "metadata": {
    "collapsed": false
   },
   "outputs": [],
   "source": [
    "print(n1_exp.shape)\n",
    "print(n2_exp.shape)"
   ]
  },
  {
   "cell_type": "code",
   "execution_count": null,
   "metadata": {
    "collapsed": true
   },
   "outputs": [],
   "source": []
  }
 ],
 "metadata": {
  "kernelspec": {
   "display_name": "Python 3",
   "language": "python",
   "name": "python3"
  },
  "language_info": {
   "codemirror_mode": {
    "name": "ipython",
    "version": 3
   },
   "file_extension": ".py",
   "mimetype": "text/x-python",
   "name": "python",
   "nbconvert_exporter": "python",
   "pygments_lexer": "ipython3",
   "version": "3.4.3"
  }
 },
 "nbformat": 4,
 "nbformat_minor": 0
}
